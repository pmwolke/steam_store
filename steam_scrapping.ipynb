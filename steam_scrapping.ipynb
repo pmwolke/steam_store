{
 "cells": [
  {
   "cell_type": "raw",
   "metadata": {},
   "source": [
    "This is an exploration on how to scrape data from the Steam Store to obtain information and data on games"
   ]
  },
  {
   "cell_type": "code",
   "execution_count": 60,
   "metadata": {},
   "outputs": [],
   "source": [
    "# Import libraries\n",
    "import urllib\n",
    "from bs4 import BeautifulSoup\n",
    "import re\n",
    "import datetime\n",
    "\n",
    "# For this example, we will be working with app id 782330 within the Steam store\n",
    "app_id = 782330\n",
    "\n",
    "# Set the url we will be working with\n",
    "url = \"https://store.steampowered.com/app/\" + str(app_id)\n",
    "\n",
    "# Get the html from the url\n",
    "with urllib.request.urlopen(url) as response:\n",
    "    html = response.read()\n",
    "\n",
    "# Make the html more readable\n",
    "soup = BeautifulSoup(html)\n",
    "#soup.prettify()"
   ]
  },
  {
   "cell_type": "markdown",
   "metadata": {},
   "source": [
    "We need to obtain the user-defined genres for the game on this website"
   ]
  },
  {
   "cell_type": "code",
   "execution_count": 56,
   "metadata": {},
   "outputs": [
    {
     "name": "stdout",
     "output_type": "stream",
     "text": [
      "['Action', 'FPS', 'GreatSoundtrack', 'Gore', 'Demons', 'Violent', 'Fast-Paced', 'First-Person', 'Shooter', 'Singleplayer', 'Blood', 'Multiplayer', 'Sci-fi', 'Post-apocalyptic', 'Atmospheric', 'Mature', 'StoryRich', 'Adventure', 'Horror', 'Difficult']\n"
     ]
    }
   ],
   "source": [
    "# Set dictionaries for where we can find game genres within html\n",
    "dict_for_genres = {'class': 'app_tag'}\n",
    "genres = []\n",
    "\n",
    "# Run loop over text within html to get genre (which is found in the section defined by dict), remove tabs, new lines, then apply to list\n",
    "for link in soup.find_all(attrs=dict_for_genres):\n",
    "    genre = link.text\n",
    "    genre = re.sub(r\"[\\n\\t\\s]*\", \"\", genre)\n",
    "    \n",
    "    genres.append(genre)\n",
    "\n",
    "# Remove last entry and print genres\n",
    "genres.remove(\"+\")\n",
    "print(genres)"
   ]
  },
  {
   "cell_type": "raw",
   "metadata": {},
   "source": [
    "Next, we need to know the name of the game which can be found in the class labeled \"apphub_AppName\""
   ]
  },
  {
   "cell_type": "code",
   "execution_count": 57,
   "metadata": {},
   "outputs": [
    {
     "name": "stdout",
     "output_type": "stream",
     "text": [
      "DOOM Eternal\n"
     ]
    }
   ],
   "source": [
    "# Set dictionaries for where we can find the game title within html\n",
    "dict_for_name = {\"class\": \"apphub_AppName\"}\n",
    "\n",
    "# There is only one class with this name, so we only need to find the text once and set the game title to the text found within\n",
    "game_title = soup.find(attrs=dict_for_name).text\n",
    "print(game_title)"
   ]
  },
  {
   "cell_type": "raw",
   "metadata": {},
   "source": [
    "Now, we will get the release date for this game"
   ]
  },
  {
   "cell_type": "code",
   "execution_count": 61,
   "metadata": {},
   "outputs": [
    {
     "name": "stdout",
     "output_type": "stream",
     "text": [
      "2020-03-19 00:00:00\n"
     ]
    }
   ],
   "source": [
    "# Set dictionaries for where we can find the release date within html\n",
    "dict_for_date = {\"class\":\"date\"}\n",
    "\n",
    "# There is only one class with this name, so we only need to find the text once and set the release date to the text found within\n",
    "release_date = soup.find(attrs=dict_for_date).text\n",
    "\n",
    "# The date is given in a string, so we will want to convert to a datetime object for potential calculations later on\n",
    "release_date = datetime.datetime.strptime(release_date, '%b %d, %Y')\n",
    "print(release_date)"
   ]
  },
  {
   "cell_type": "raw",
   "metadata": {},
   "source": [
    "Let us obtain the data for developer and publisher"
   ]
  },
  {
   "cell_type": "code",
   "execution_count": 75,
   "metadata": {},
   "outputs": [
    {
     "name": "stdout",
     "output_type": "stream",
     "text": [
      "id Software\n",
      "Bethesda Softworks\n"
     ]
    }
   ],
   "source": [
    "# Set dictionaries for where we can find the developer within html\n",
    "dict_for_developer = {\"class\":\"summary column\", \"id\":\"developers_list\"}\n",
    "\n",
    "# There is only one class and id combination with this name, so we only need to find the text once and set the developer to the text found within\n",
    "developer = soup.find(attrs=dict_for_developer).a.text\n",
    "print(developer)\n",
    "\n",
    "# Publisher is not unique, so we need to look at the text within the html to find it\n",
    "# Here, we turn all the text in the html to a list\n",
    "text_to_list = [text for text in soup.stripped_strings]\n",
    "\n",
    "# The Publisher name always appears right after the string \"Publisher\", so we find that index and add 1 to obtain the location within this list\n",
    "publisher_index = text_to_list.index(\"Publisher:\") + 1\n",
    "\n",
    "# Set publisher to the name based on the index found above\n",
    "publisher = text_to_list[publisher_index]\n",
    "print(publisher)"
   ]
  },
  {
   "cell_type": "raw",
   "metadata": {},
   "source": [
    "We are going to get the data for user reviews. For Steam's review system, the user gives the game either a positive (thumbs-up) or negative (thumbs-down) score. This means we only need the number of positive reviews and total reviews to obtain the stastistics we desire.\n",
    "\n",
    "We could also obtain recent review data, but since we are not planning on looking at how the Steam store changes over time for this project we will leave that data to be analyzed another day."
   ]
  },
  {
   "cell_type": "code",
   "execution_count": 84,
   "metadata": {},
   "outputs": [
    {
     "name": "stdout",
     "output_type": "stream",
     "text": [
      "81585\n",
      "91169\n"
     ]
    }
   ],
   "source": [
    "# Set dictionaries for where we can find the user review information within html\n",
    "dict_for_positive_reviews = {\"type\":\"hidden\", \"id\":\"review_summary_num_positive_reviews\"}\n",
    "dict_for_all_reviews = {\"type\":\"hidden\", \"id\":\"review_summary_num_reviews\"}\n",
    "\n",
    "# Find the location of positive reviews, take the str from \"value\" and convert to int\n",
    "positive_reviews_location = soup.find(attrs=dict_for_positive_reviews)\n",
    "positive_reviews = positive_reviews_location[\"value\"]\n",
    "positive_reviews = int(positive_reviews)\n",
    "print(positive_reviews)\n",
    "\n",
    "# Find the location of all reviews, take the str from \"value\" and convert to int\n",
    "all_reviews_location = soup.find(attrs=dict_for_all_reviews)\n",
    "all_reviews = all_reviews_location[\"value\"]\n",
    "all_reviews = int(all_reviews)\n",
    "print(all_reviews)"
   ]
  },
  {
   "cell_type": "raw",
   "metadata": {},
   "source": [
    "Lastly, we will obtain the data for current price (and currency)"
   ]
  },
  {
   "cell_type": "code",
   "execution_count": 88,
   "metadata": {},
   "outputs": [
    {
     "name": "stdout",
     "output_type": "stream",
     "text": [
      "<class 'str'>\n",
      "<class 'float'>\n"
     ]
    }
   ],
   "source": [
    "# Set dictionaries for where we can find the pricing information within html\n",
    "dict_for_currency = {\"itemprop\":\"priceCurrency\"}\n",
    "dict_for_price = {\"itemprop\":\"price\"}\n",
    "\n",
    "# Find the location of currency reviews, take the str from \"content\"\n",
    "currency_location = soup.find(attrs=dict_for_currency)\n",
    "currency = currency_location[\"content\"]\n",
    "print(currency)\n",
    "\n",
    "# Find the location of price, take the str from \"content\" and convert to float\n",
    "price_location = soup.find(attrs=dict_for_price)\n",
    "price = price_location[\"content\"]\n",
    "price = float(price)\n",
    "print(price)"
   ]
  },
  {
   "cell_type": "code",
   "execution_count": 137,
   "metadata": {},
   "outputs": [
    {
     "name": "stdout",
     "output_type": "stream",
     "text": [
      "<div class=\"discount_original_price\">$59.99</div>\n",
      "<class 'float'> 59.99\n"
     ]
    }
   ],
   "source": [
    "# Set dictionaries for  discount and if it is there where we can find the discount information within html\n",
    "dict_for_discount = {\"class\":\"game_area_purchase_game_wrapper\", \"class\":\"game_purchase_action\", \"class\":\"discount_original_price\"}\n",
    "\n",
    "# First, we look to see if a discount is available\n",
    "search_for_discount = soup.find(attrs=dict_for_discount)\n",
    "print(search_for_discount)\n",
    "\n",
    "# If there is a discount, we obtain the discount data and set discount to that value, else we set discount to 0\n",
    "if search_for_discount != None:\n",
    "    discount_location = soup.find(attrs=dict_for_discount)\n",
    "    discount_original_price = discount_location.text\n",
    "    discount_original_price = re.sub(r\"[$]\", \"\", discount_original_price)\n",
    "    discount_original_price = float(discount_original_price)\n",
    "    discount_original_price = discount_original_price\n",
    "    print(type(discount_original_price), discount_original_price)\n",
    "else:\n",
    "    discount_original_price = price\n"
   ]
  },
  {
   "cell_type": "code",
   "execution_count": 142,
   "metadata": {},
   "outputs": [
    {
     "name": "stdout",
     "output_type": "stream",
     "text": [
      "0.67\n"
     ]
    }
   ],
   "source": [
    "# We can find the discount percent with a little arithmetic\n",
    "discount = round(1 - (price / discount_original_price), 2)\n",
    "print(discount)"
   ]
  },
  {
   "cell_type": "code",
   "execution_count": null,
   "metadata": {},
   "outputs": [],
   "source": []
  }
 ],
 "metadata": {
  "kernelspec": {
   "display_name": "Python 3",
   "language": "python",
   "name": "python3"
  },
  "language_info": {
   "codemirror_mode": {
    "name": "ipython",
    "version": 3
   },
   "file_extension": ".py",
   "mimetype": "text/x-python",
   "name": "python",
   "nbconvert_exporter": "python",
   "pygments_lexer": "ipython3",
   "version": "3.8.3"
  }
 },
 "nbformat": 4,
 "nbformat_minor": 4
}
