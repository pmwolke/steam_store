{
 "cells": [
  {
   "cell_type": "raw",
   "metadata": {},
   "source": [
    "Let's check to see if our process we developed in the previous notebook works for other webpages and then create a method to store this data"
   ]
  },
  {
   "cell_type": "code",
   "execution_count": 28,
   "metadata": {},
   "outputs": [],
   "source": [
    "# Import libraries\n",
    "import urllib\n",
    "from bs4 import BeautifulSoup\n",
    "import re\n",
    "import datetime\n",
    "\n",
    "# Let's take our previous process for scrapping the html and make it a function so we can loop over it\n",
    "def scrape_html_for_data(soup):\n",
    "\n",
    "    # Set dictionaries for where we can find all game data within html - genres, title, datte, developer, publisher, price, etc.\n",
    "    dict_for_genres = {'class': 'app_tag'}\n",
    "    dict_for_name = {\"class\": \"apphub_AppName\"}\n",
    "    dict_for_date = {\"class\":\"date\"}\n",
    "    dict_for_developer = {\"class\":\"summary column\", \"id\":\"developers_list\"}\n",
    "    dict_for_positive_reviews = {\"type\":\"hidden\", \"id\":\"review_summary_num_positive_reviews\"}\n",
    "    dict_for_all_reviews = {\"type\":\"hidden\", \"id\":\"review_summary_num_reviews\"}\n",
    "    dict_for_currency = {\"itemprop\":\"priceCurrency\"}\n",
    "    dict_for_price = {\"itemprop\":\"price\"}\n",
    "    dict_for_discount = {\"class\":\"game_area_purchase_game_wrapper\", \"class\":\"game_purchase_action\", \"class\":\"discount_original_price\"}\n",
    "\n",
    "    genres = []\n",
    "  \n",
    "    # Get the genres\n",
    "    for link in soup.find_all(attrs=dict_for_genres):\n",
    "        genre = link.text\n",
    "        genre = re.sub(r\"[\\n\\t\\s]*\", \"\", genre)\n",
    "\n",
    "        genres.append(genre)\n",
    "    genres.remove(\"+\")\n",
    "\n",
    "    # Get the name (title) of the game\n",
    "    if soup.find(attrs=dict_for_name) == None:\n",
    "        game_title = \"NaN\"\n",
    "    else:\n",
    "        game_title = soup.find(attrs=dict_for_name).text\n",
    "\n",
    "    # Get the release date\n",
    "    if soup.find(attrs=dict_for_date) == None:\n",
    "        release_date = \"NaN\"\n",
    "    else:\n",
    "        release_date = soup.find(attrs=dict_for_date).text\n",
    "        release_date = datetime.datetime.strptime(release_date, '%b %d, %Y')\n",
    "\n",
    "    # Get the developer\n",
    "    if soup.find(attrs=dict_for_developer) == None:\n",
    "        developer = \"NaN\"\n",
    "    else:\n",
    "        developer = soup.find(attrs=dict_for_developer).a.text\n",
    "    # Get the publisher\n",
    "    text_to_list = [text for text in soup.stripped_strings]\n",
    "    try:\n",
    "        publisher_index = text_to_list.index(\"Publisher:\") + 1\n",
    "        publisher = text_to_list[publisher_index]\n",
    "    except ValueError:\n",
    "        publisher = \"NaN\"\n",
    "        \n",
    "    # Get positive reviews\n",
    "    if soup.find(attrs=dict_for_positive_reviews) == None:\n",
    "        positive_reviews = \"NaN\"\n",
    "        all_reviews = \"NaN\"\n",
    "    else:\n",
    "        positive_reviews_location = soup.find(attrs=dict_for_positive_reviews)\n",
    "        positive_reviews = positive_reviews_location[\"value\"]\n",
    "        positive_reviews = int(positive_reviews)\n",
    "        # Get total reviews\n",
    "        all_reviews_location = soup.find(attrs=dict_for_all_reviews)\n",
    "        all_reviews = all_reviews_location[\"value\"]\n",
    "        all_reviews = int(all_reviews)\n",
    "\n",
    "    # Check to see if a price exists as some games are free or can't be purchased\n",
    "    if soup.find(attrs=dict_for_currency) == None:\n",
    "        currency = \"NaN\"\n",
    "        price = \"NaN\"\n",
    "        discount_original_price = \"NaN\"\n",
    "    else:\n",
    "        # Get the currency\n",
    "        currency_location = soup.find(attrs=dict_for_currency)\n",
    "        currency = currency_location[\"content\"]\n",
    "\n",
    "        # Get the price\n",
    "        price_location = soup.find(attrs=dict_for_price)\n",
    "        price = price_location[\"content\"]\n",
    "        price = float(price)\n",
    "\n",
    "        # Get the discount\n",
    "        search_for_discount = soup.find(attrs=dict_for_discount)\n",
    "        if search_for_discount != None:\n",
    "            discount_location = soup.find(attrs=dict_for_discount)\n",
    "            discount_original_price = discount_location.text\n",
    "            discount_original_price = re.sub(r\"[$]\", \"\", discount_original_price)\n",
    "            discount_original_price = float(discount_original_price)\n",
    "        else:\n",
    "            discount_original_price = price\n",
    "    \n",
    "    return_dictionary = {\"game_title\":game_title,\n",
    "                        \"developer\": developer,\n",
    "                        \"publisher\": publisher,\n",
    "                        \"release_date\": release_date,\n",
    "                        \"positive_reviews\": positive_reviews,\n",
    "                        \"all_reviews\": all_reviews,\n",
    "                        \"currency\": currency,\n",
    "                        \"price\": price,\n",
    "                        \"original_price\": discount_original_price,\n",
    "                        \"genres\": genres}\n",
    "    \n",
    "    return return_dictionary"
   ]
  },
  {
   "cell_type": "raw",
   "metadata": {},
   "source": [
    "Now that we have turned our previous work into a reuasable function, let's check if it works on some known game app id's"
   ]
  },
  {
   "cell_type": "code",
   "execution_count": 3,
   "metadata": {},
   "outputs": [
    {
     "name": "stdout",
     "output_type": "stream",
     "text": [
      "['Action', 'FPS', 'GreatSoundtrack', 'Gore', 'Demons', 'Violent', 'Fast-Paced', 'First-Person', 'Shooter', 'Singleplayer', 'Blood', 'Multiplayer', 'Sci-fi', 'Atmospheric', 'Post-apocalyptic', 'Mature', 'StoryRich', 'Adventure', 'Horror', 'Difficult']\n",
      "DOOM Eternal\n",
      "2020-03-19 00:00:00\n",
      "id Software\n",
      "Bethesda Softworks\n",
      "82735\n",
      "92381\n",
      "USD\n",
      "19.79\n",
      "<div class=\"discount_original_price\">$59.99</div>\n",
      "<class 'float'> 59.99\n",
      "0.67\n",
      "['ActionRoguelike', 'Action', 'Indie', 'RPG', 'Roguelite', 'HackandSlash', 'GreatSoundtrack', 'Singleplayer', 'DungeonCrawler', 'Roguelike', 'Mythology', 'StoryRich', 'ReplayValue', 'Isometric', 'ActionRPG', 'Difficult', 'Hand-drawn', 'Atmospheric', 'DatingSim', 'PermaDeath']\n",
      "Hades\n",
      "2020-09-17 00:00:00\n",
      "Supergiant Games\n",
      "Supergiant Games\n",
      "100585\n",
      "101677\n",
      "USD\n",
      "19.99\n",
      "<div class=\"discount_original_price\">$24.99</div>\n",
      "<class 'float'> 24.99\n",
      "0.2\n",
      "['OpenWorld', 'Action', 'Multiplayer', 'AutomobileSim', 'Crime', 'ThirdPerson', 'First-Person', 'Shooter', 'Adventure', 'Mature', 'Singleplayer', 'Third-PersonShooter', 'Racing', 'Atmospheric', 'Co-op', 'Sandbox', 'Funny', 'GreatSoundtrack', 'Comedy', 'Moddable']\n",
      "Grand Theft Auto V\n",
      "2015-04-14 00:00:00\n",
      "Rockstar North\n",
      "Rockstar Games\n",
      "729273\n",
      "892568\n",
      "USD\n",
      "14.99\n",
      "<div class=\"discount_original_price\">$29.99</div>\n",
      "<class 'float'> 29.99\n",
      "0.5\n",
      "['Cyberpunk', 'OpenWorld', 'RPG', 'SexualContent', 'Futuristic', 'StoryRich', 'Singleplayer', 'Nudity', 'First-Person', 'Mature', 'Sci-fi', 'FPS', 'Action', 'Violent', 'Atmospheric', 'ActionRPG', 'GreatSoundtrack', 'Adventure', 'EarlyAccess', 'Multiplayer']\n",
      "Cyberpunk 2077\n",
      "2020-12-09 00:00:00\n",
      "CD PROJEKT RED\n",
      "CD PROJEKT RED\n",
      "241259\n",
      "305158\n",
      "USD\n",
      "59.99\n",
      "None\n",
      "0.0\n"
     ]
    }
   ],
   "source": [
    "# Let's make a list of known games on Steam and see if our method works across them\n",
    "doom_eternal_app_id = 782330\n",
    "hades_app_id = 1145360\n",
    "grand_theft_auto_v_app_id = 271590\n",
    "cyberpunk_2077_app_id = 1091500\n",
    "\n",
    "list_of_games = [doom_eternal_app_id, hades_app_id, grand_theft_auto_v_app_id, cyberpunk_2077_app_id]\n",
    "\n",
    "# Loop through the list and see if our function works\n",
    "for game in list_of_games:\n",
    "    url = \"https://store.steampowered.com/app/\" + str(game)\n",
    "    with urllib.request.urlopen(url) as response:\n",
    "        html = response.read()\n",
    "    soup = BeautifulSoup(html)\n",
    "    scrape_html_for_data(soup)"
   ]
  },
  {
   "cell_type": "raw",
   "metadata": {},
   "source": [
    "Awesome! It looks like our function works for games we know to exist. However, Steam houses thousands of games on it's platform and we don't know the app id for all of these games. We need to devise a way to find app ids as well as a method for handling errors should they arise."
   ]
  },
  {
   "cell_type": "code",
   "execution_count": 13,
   "metadata": {},
   "outputs": [
    {
     "name": "stdout",
     "output_type": "stream",
     "text": [
      "<title>Welcome to Steam</title>\n",
      "Save 67% on DOOM Eternal on Steam <class 'bs4.element.Tag'>\n"
     ]
    }
   ],
   "source": [
    "# Look at title for html with an app id the does not exist\n",
    "DNE_app_id = 1\n",
    "url = \"https://store.steampowered.com/app/\" + str(DNE_app_id)\n",
    "with urllib.request.urlopen(url) as response:\n",
    "    html = response.read()\n",
    "soup_DNE = BeautifulSoup(html)\n",
    "print(soup_DNE.title)\n",
    "\n",
    "# Look at title for html with an app id the does exist\n",
    "EXISTS_app_id = 782330\n",
    "url = \"https://store.steampowered.com/app/\" + str(EXISTS_app_id)\n",
    "with urllib.request.urlopen(url) as response:\n",
    "    html = response.read()\n",
    "soup_EXISTS = BeautifulSoup(html)\n",
    "print(soup_EXISTS.title)"
   ]
  },
  {
   "cell_type": "raw",
   "metadata": {},
   "source": [
    "It looks like if we give Steam an address with an app id that does not exist, the webpage redirects us to Steam's home page. So, we can create a list of apps that exist be checking if the title equals \"Welcome to Steam\" or not."
   ]
  },
  {
   "cell_type": "code",
   "execution_count": 23,
   "metadata": {},
   "outputs": [
    {
     "name": "stdout",
     "output_type": "stream",
     "text": [
      "Welcome to Steam\n",
      "Welcome to Steam\n",
      "Welcome to Steam\n",
      "Welcome to Steam\n",
      "Welcome to Steam\n",
      "Welcome to Steam\n",
      "Welcome to Steam\n",
      "Welcome to Steam\n",
      "Welcome to Steam\n",
      "Save 80% on Counter-Strike on Steam\n",
      "Welcome to Steam\n",
      "Welcome to Steam\n",
      "Welcome to Steam\n",
      "Welcome to Steam\n",
      "Welcome to Steam\n",
      "Welcome to Steam\n",
      "Welcome to Steam\n",
      "Welcome to Steam\n",
      "Welcome to Steam\n",
      "Save 80% on Team Fortress Classic on Steam\n",
      "Welcome to Steam\n",
      "Welcome to Steam\n",
      "Welcome to Steam\n",
      "Welcome to Steam\n",
      "Welcome to Steam\n",
      "Welcome to Steam\n",
      "Welcome to Steam\n",
      "Welcome to Steam\n",
      "Welcome to Steam\n",
      "Save 80% on Day of Defeat on Steam\n",
      "Welcome to Steam\n",
      "Welcome to Steam\n",
      "Welcome to Steam\n",
      "Welcome to Steam\n",
      "Welcome to Steam\n",
      "Welcome to Steam\n",
      "Welcome to Steam\n",
      "Welcome to Steam\n",
      "Welcome to Steam\n",
      "Save 80% on Deathmatch Classic on Steam\n",
      "Welcome to Steam\n",
      "Welcome to Steam\n",
      "Welcome to Steam\n",
      "Welcome to Steam\n",
      "Welcome to Steam\n",
      "Welcome to Steam\n",
      "Welcome to Steam\n",
      "Welcome to Steam\n",
      "Welcome to Steam\n",
      "Save 80% on Half-Life: Opposing Force on Steam\n",
      "[10, 20, 30, 40, 50]\n"
     ]
    }
   ],
   "source": [
    "list_of_app_ids = []\n",
    "for i in range(1, 51):\n",
    "    app_id = i\n",
    "    url = \"https://store.steampowered.com/app/\" + str(app_id)\n",
    "    with urllib.request.urlopen(url) as response:\n",
    "        html = response.read()\n",
    "    soup = BeautifulSoup(html)\n",
    "    print(soup.title.text)\n",
    "    if soup.title.text != \"Welcome to Steam\":\n",
    "        list_of_app_ids.append(app_id)\n",
    "\n",
    "print(list_of_app_ids)"
   ]
  },
  {
   "cell_type": "raw",
   "metadata": {},
   "source": [
    "We learned something here! We may not need to go through every number from 1 to 1 million. It looks like app id's are incrementals of 10. Let's make sure that is true for a set of numbers later in the sequence."
   ]
  },
  {
   "cell_type": "code",
   "execution_count": 24,
   "metadata": {},
   "outputs": [
    {
     "name": "stdout",
     "output_type": "stream",
     "text": [
      "Save 67% on DOOM Eternal on Steam\n",
      "Welcome to Steam\n",
      "Welcome to Steam\n",
      "Welcome to Steam\n",
      "Welcome to Steam\n",
      "Welcome to Steam\n",
      "Welcome to Steam\n",
      "Welcome to Steam\n",
      "Welcome to Steam\n",
      "Welcome to Steam\n",
      "Lake of Voices on Steam\n",
      "Welcome to Steam\n",
      "Welcome to Steam\n",
      "Welcome to Steam\n",
      "Welcome to Steam\n",
      "Welcome to Steam\n",
      "Welcome to Steam\n",
      "Welcome to Steam\n",
      "Welcome to Steam\n",
      "Welcome to Steam\n",
      "Welcome to Steam\n",
      "Welcome to Steam\n",
      "Welcome to Steam\n",
      "Welcome to Steam\n",
      "Welcome to Steam\n",
      "Welcome to Steam\n",
      "Welcome to Steam\n",
      "Welcome to Steam\n",
      "Welcome to Steam\n",
      "Welcome to Steam\n",
      "Welcome to Steam\n",
      "Welcome to Steam\n",
      "Welcome to Steam\n",
      "Welcome to Steam\n",
      "Welcome to Steam\n",
      "Welcome to Steam\n",
      "Welcome to Steam\n",
      "Welcome to Steam\n",
      "Welcome to Steam\n",
      "Welcome to Steam\n",
      "Welcome to Steam\n",
      "Welcome to Steam\n",
      "Welcome to Steam\n",
      "Welcome to Steam\n",
      "Welcome to Steam\n",
      "Welcome to Steam\n",
      "Welcome to Steam\n",
      "Welcome to Steam\n",
      "Welcome to Steam\n",
      "Welcome to Steam\n",
      "Save 90% on Mirage of Dragon on Steam\n",
      "Welcome to Steam\n",
      "Welcome to Steam\n",
      "Welcome to Steam\n",
      "Welcome to Steam\n",
      "Welcome to Steam\n",
      "Welcome to Steam\n",
      "Welcome to Steam\n",
      "Welcome to Steam\n",
      "Welcome to Steam\n",
      "Welcome to Steam\n",
      "Welcome to Steam\n",
      "Welcome to Steam\n",
      "Welcome to Steam\n",
      "Welcome to Steam\n",
      "Welcome to Steam\n",
      "Welcome to Steam\n",
      "Welcome to Steam\n",
      "Welcome to Steam\n",
      "Welcome to Steam\n",
      "[782330, 782340, 782380]\n"
     ]
    }
   ],
   "source": [
    "list_of_app_ids = []\n",
    "for i in range(782330, 782400):\n",
    "    app_id = i\n",
    "    url = \"https://store.steampowered.com/app/\" + str(app_id)\n",
    "    with urllib.request.urlopen(url) as response:\n",
    "        html = response.read()\n",
    "    soup = BeautifulSoup(html)\n",
    "    print(soup.title.text)\n",
    "    if soup.title.text != \"Welcome to Steam\":\n",
    "        list_of_app_ids.append(app_id)\n",
    "\n",
    "print(list_of_app_ids)"
   ]
  },
  {
   "cell_type": "raw",
   "metadata": {},
   "source": [
    "Nice find! We will be able to check existence of app id's much faster now by only looking at increments of 10. As an exercise, let's go through some numbers and get an estimate how much time this task might take."
   ]
  },
  {
   "cell_type": "code",
   "execution_count": 27,
   "metadata": {},
   "outputs": [
    {
     "name": "stdout",
     "output_type": "stream",
     "text": [
      "0:00:00.954667\n",
      "[]\n",
      "0:00:05.341766\n",
      "[10, 20, 30, 40, 50, 60, 70, 80]\n",
      "0:00:12.531266\n",
      "[10, 20, 30, 40, 50, 60, 70, 80, 10, 20, 30, 40, 50, 60, 70, 80, 100, 130]\n",
      "0:00:18.686774\n",
      "[10, 20, 30, 40, 50, 60, 70, 80, 10, 20, 30, 40, 50, 60, 70, 80, 100, 130, 10, 20, 30, 40, 50, 60, 70, 80, 100, 130, 220, 240, 280]\n",
      "0:00:26.678552\n",
      "[10, 20, 30, 40, 50, 60, 70, 80, 10, 20, 30, 40, 50, 60, 70, 80, 100, 130, 10, 20, 30, 40, 50, 60, 70, 80, 100, 130, 220, 240, 280, 10, 20, 30, 40, 50, 60, 70, 80, 100, 130, 220, 240, 280, 300, 320, 340, 360, 380]\n",
      "0:00:32.751367\n",
      "[10, 20, 30, 40, 50, 60, 70, 80, 10, 20, 30, 40, 50, 60, 70, 80, 100, 130, 10, 20, 30, 40, 50, 60, 70, 80, 100, 130, 220, 240, 280, 10, 20, 30, 40, 50, 60, 70, 80, 100, 130, 220, 240, 280, 300, 320, 340, 360, 380, 10, 20, 30, 40, 50, 60, 70, 80, 100, 130, 220, 240, 280, 300, 320, 340, 360, 380, 400, 410, 420, 440]\n"
     ]
    }
   ],
   "source": [
    "list_of_app_ids = []\n",
    "list_of_time = []\n",
    "num_of_app_ids = [10, 100, 200, 300, 400, 500]\n",
    "\n",
    "for k in num_of_app_ids:\n",
    "    startTime = datetime.datetime.now()\n",
    "    for i in range(0, k, 10):\n",
    "        app_id = i\n",
    "        url = \"https://store.steampowered.com/app/\" + str(app_id)\n",
    "        with urllib.request.urlopen(url) as response:\n",
    "            html = response.read()\n",
    "        soup = BeautifulSoup(html)\n",
    "        if soup.title.text != \"Welcome to Steam\":\n",
    "            list_of_app_ids.append(app_id)\n",
    "    \n",
    "    time_to_complete = datetime.datetime.now() - startTime\n",
    "    list_of_time.append(time_to_complete)\n",
    "    print(time_to_complete)\n",
    "    print(list_of_app_ids)"
   ]
  },
  {
   "cell_type": "code",
   "execution_count": 31,
   "metadata": {},
   "outputs": [
    {
     "data": {
      "image/png": "[encoded data removed]",
      "text/plain": [
       "<Figure size 432x288 with 1 Axes>"
      ]
     },
     "metadata": {
      "needs_background": "light"
     },
     "output_type": "display_data"
    }
   ],
   "source": [
    "import matplotlib.pyplot as plt\n",
    "\n",
    "plt.plot([1, 10, 20, 30, 40, 50], [0.954, 5.342, 12.531, 18.687, 26.679, 32.751])\n",
    "plt.show()"
   ]
  },
  {
   "cell_type": "raw",
   "metadata": {},
   "source": [
    "Ok, like like the time to complete will be linear. Let's send this data to a numpy array and save it as a csv file so we have the list of app id's to use later."
   ]
  },
  {
   "cell_type": "code",
   "execution_count": 35,
   "metadata": {},
   "outputs": [
    {
     "name": "stdout",
     "output_type": "stream",
     "text": [
      "[10, 20, 30, 40, 50, 60, 70, 80]\n",
      "[10 20 30 40 50 60 70 80]\n"
     ]
    }
   ],
   "source": [
    "import numpy as np\n",
    "\n",
    "list_of_app_ids = []\n",
    "\n",
    "for i in range(0, 100, 10):\n",
    "    app_id = i\n",
    "    url = \"https://store.steampowered.com/app/\" + str(app_id)\n",
    "    with urllib.request.urlopen(url) as response:\n",
    "        html = response.read()\n",
    "    soup = BeautifulSoup(html)\n",
    "    if soup.title.text != \"Welcome to Steam\":\n",
    "        list_of_app_ids.append(app_id)\n",
    "\n",
    "print(list_of_app_ids)\n",
    "np_list_of_app_ids = np.array(list_of_app_ids)\n",
    "print(np_list_of_app_ids)"
   ]
  },
  {
   "cell_type": "code",
   "execution_count": 38,
   "metadata": {},
   "outputs": [],
   "source": [
    "np.savetxt(\"text.csv\", np_list_of_app_ids, delimiter=\",\")"
   ]
  },
  {
   "cell_type": "raw",
   "metadata": {},
   "source": [
    "Let's create a list of app id's with number less than or equal to 10000 so we can test our function on them."
   ]
  },
  {
   "cell_type": "code",
   "execution_count": 47,
   "metadata": {},
   "outputs": [
    {
     "name": "stdout",
     "output_type": "stream",
     "text": [
      "0:10:52.613171\n"
     ]
    }
   ],
   "source": [
    "startTime = datetime.datetime.now()\n",
    "np.savetxt(\"steam_app_ids.csv\", [], delimiter=\",\")\n",
    "\n",
    "for k in range(0, 10000, 1000):\n",
    "    list_of_app_ids = []\n",
    "    for i in range(k, k+1000, 10):\n",
    "        app_id = i\n",
    "        url = \"https://store.steampowered.com/app/\" + str(app_id)\n",
    "        \n",
    "        try:\n",
    "            with urllib.request.urlopen(url) as response:\n",
    "                html = response.read()\n",
    "            soup = BeautifulSoup(html)\n",
    "            if soup.title.text != \"Welcome to Steam\":\n",
    "                list_of_app_ids.append(app_id)\n",
    "        except urllib.error.HTTPError as e:\n",
    "            print(\"For app id:\", i, \"\\tError code:\", e.code)\n",
    "\n",
    "    np_list_of_app_ids = np.array(list_of_app_ids)\n",
    "    with open(\"steam_app_ids.csv\", 'a') as file:\n",
    "        np.savetxt(file, np_list_of_app_ids, delimiter=\",\")\n",
    "        \n",
    "print(datetime.datetime.now() - startTime)"
   ]
  },
  {
   "cell_type": "raw",
   "metadata": {},
   "source": [
    "Ok, we have the app id's saved in a file for reusability. Let's reload it as a pandas data frame."
   ]
  },
  {
   "cell_type": "code",
   "execution_count": 3,
   "metadata": {},
   "outputs": [
    {
     "name": "stdout",
     "output_type": "stream",
     "text": [
      "     app_id\n",
      "0        10\n",
      "1        20\n",
      "2        30\n",
      "3        40\n",
      "4        50\n",
      "..      ...\n",
      "372    9940\n",
      "373    9950\n",
      "374    9960\n",
      "375    9970\n",
      "376    9980\n",
      "\n",
      "[377 rows x 1 columns]\n",
      "app_id    10\n",
      "Name: 0, dtype: int32\n"
     ]
    }
   ],
   "source": [
    "import pandas as pd\n",
    "\n",
    "app_ids_df = pd.read_csv(\"steam_app_ids.csv\", names=[\"app_id\"])\n",
    "app_ids_df = app_ids_df.astype(\"int\")\n",
    "print(app_ids_df)\n",
    "print(app_ids_df.iloc[0])"
   ]
  },
  {
   "cell_type": "raw",
   "metadata": {},
   "source": [
    "Let's create a function that will take the app_id and get the html, converting it into beautiful soup"
   ]
  },
  {
   "cell_type": "code",
   "execution_count": null,
   "metadata": {},
   "outputs": [],
   "source": [
    "def make_steam_soup(app_id):\n",
    "    url = \"https://store.steampowered.com/app/\" + str(app_id)\n",
    "    with urllib.request.urlopen(url) as response:\n",
    "        html = response.read()\n",
    "    soup = BeautifulSoup(html)\n",
    "    return soup\n",
    "\n",
    "test_soup = make_steam_soup(app_ids_df.at[0, \"app_id\"])\n",
    "print(test_soup)"
   ]
  },
  {
   "cell_type": "code",
   "execution_count": 30,
   "metadata": {},
   "outputs": [
    {
     "name": "stdout",
     "output_type": "stream",
     "text": [
      "{'game_title': 'Counter-Strike', 'developer': 'Valve', 'publisher': 'Valve', 'release_date': datetime.datetime(2000, 11, 1, 0, 0), 'positive_reviews': 97009, 'all_reviews': 100152, 'currency': 'USD', 'price': 1.99, 'original_price': 9.99, 'discount': 0.8, 'genres': ['Action', 'FPS', 'Multiplayer', 'Shooter', 'Classic', 'Team-Based', 'First-Person', 'Competitive', 'Tactical', \"1990's\", 'eSports', 'PvP', 'OldSchool', 'Military', 'Strategy', 'Survival', 'ScoreAttack', '1980s', 'Assassin', 'Violent']}\n",
      "dict_keys(['game_title', 'developer', 'publisher', 'release_date', 'positive_reviews', 'all_reviews', 'currency', 'price', 'original_price', 'discount', 'genres'])\n"
     ]
    }
   ],
   "source": [
    "game_dict = scrape_html_for_data(test_soup)\n",
    "print(game_dict)\n",
    "print(game_dict.keys())"
   ]
  },
  {
   "cell_type": "code",
   "execution_count": 53,
   "metadata": {},
   "outputs": [
    {
     "name": "stdout",
     "output_type": "stream",
     "text": [
      "        game_title developer publisher release_date  positive_reviews  \\\n",
      "10  Counter-Strike     Valve     Valve   2000-11-01             97009   \n",
      "\n",
      "    all_reviews currency  price  original_price  discount  \\\n",
      "10       100152      USD   1.99            9.99       0.8   \n",
      "\n",
      "                                               genres  \n",
      "10  [Action, FPS, Multiplayer, Shooter, Classic, T...  \n"
     ]
    }
   ],
   "source": [
    "attributes = game_dict.values()\n",
    "col_head = game_dict.keys()\n",
    "df_test = pd.DataFrame([attributes], columns=col_head, index=[app_ids_df.at[0, \"app_id\"]])\n",
    "print(df_test)"
   ]
  },
  {
   "cell_type": "code",
   "execution_count": 105,
   "metadata": {},
   "outputs": [
    {
     "ename": "ValueError",
     "evalue": "6 is not in list",
     "output_type": "error",
     "traceback": [
      "\u001b[1;31m---------------------------------------------------------------------------\u001b[0m",
      "\u001b[1;31mValueError\u001b[0m                                Traceback (most recent call last)",
      "\u001b[1;32m<ipython-input-105-e2f1062977fa>\u001b[0m in \u001b[0;36m<module>\u001b[1;34m\u001b[0m\n\u001b[0;32m      1\u001b[0m \u001b[0mtest\u001b[0m \u001b[1;33m=\u001b[0m \u001b[1;33m[\u001b[0m\u001b[1;36m1\u001b[0m\u001b[1;33m,\u001b[0m \u001b[1;36m2\u001b[0m\u001b[1;33m,\u001b[0m \u001b[1;36m3\u001b[0m\u001b[1;33m,\u001b[0m \u001b[1;36m4\u001b[0m\u001b[1;33m,\u001b[0m \u001b[1;36m5\u001b[0m\u001b[1;33m]\u001b[0m\u001b[1;33m\u001b[0m\u001b[1;33m\u001b[0m\u001b[0m\n\u001b[1;32m----> 2\u001b[1;33m \u001b[0mprint\u001b[0m\u001b[1;33m(\u001b[0m\u001b[0mtest\u001b[0m\u001b[1;33m.\u001b[0m\u001b[0mindex\u001b[0m\u001b[1;33m(\u001b[0m\u001b[1;36m6\u001b[0m\u001b[1;33m)\u001b[0m\u001b[1;33m)\u001b[0m\u001b[1;33m\u001b[0m\u001b[1;33m\u001b[0m\u001b[0m\n\u001b[0m",
      "\u001b[1;31mValueError\u001b[0m: 6 is not in list"
     ]
    }
   ],
   "source": [
    "test = [1, 2, 3, 4, 5]\n",
    "print(test.index(6))"
   ]
  },
  {
   "cell_type": "code",
   "execution_count": 58,
   "metadata": {},
   "outputs": [
    {
     "name": "stdout",
     "output_type": "stream",
     "text": [
      "        game_title developer publisher release_date  positive_reviews  \\\n",
      "10  Counter-Strike     Valve     Valve   2000-11-01             97009   \n",
      "\n",
      "    all_reviews currency  price  original_price  discount  \\\n",
      "10       100152      USD   1.99            9.99       0.8   \n",
      "\n",
      "                                               genres  \n",
      "10  [Action, FPS, Multiplayer, Shooter, Classic, T...  \n",
      "        game_title developer publisher release_date  positive_reviews  \\\n",
      "10  Counter-Strike     Valve     Valve   2000-11-01             97009   \n",
      "10  Counter-Strike     Valve     Valve   2000-11-01             97009   \n",
      "\n",
      "    all_reviews currency  price  original_price  discount  \\\n",
      "10       100152      USD   1.99            9.99       0.8   \n",
      "10       100152      USD   1.99            9.99       0.8   \n",
      "\n",
      "                                               genres  \n",
      "10  [Action, FPS, Multiplayer, Shooter, Classic, T...  \n",
      "10  [Action, FPS, Multiplayer, Shooter, Classic, T...  \n"
     ]
    }
   ],
   "source": [
    "def game_dict_to_df(dictionary, df_old, app_id):\n",
    "    \n",
    "    values = dictionary.values()\n",
    "    columns = dictionary.keys()\n",
    "    df_from_dict = pd.DataFrame([values], columns=columns, index=[app_id])\n",
    "    \n",
    "    df_new = df_old.append(df_from_dict)\n",
    "    return df_new\n",
    "\n",
    "df = pd.DataFrame()\n",
    "df_test1 = game_dict_to_df(game_dict, df, app_ids_df.at[0, \"app_id\"])\n",
    "df_test2 = game_dict_to_df(game_dict, df_test1, app_ids_df.at[0, \"app_id\"])\n",
    "print(df_test)\n",
    "print(df_test2)"
   ]
  },
  {
   "cell_type": "raw",
   "metadata": {},
   "source": [
    "Put this all together"
   ]
  },
  {
   "cell_type": "code",
   "execution_count": 113,
   "metadata": {},
   "outputs": [
    {
     "name": "stdout",
     "output_type": "stream",
     "text": [
      "App Id 5100 Does not exist\n",
      "App Id 5130 Does not exist\n",
      "App Id 5140 Does not exist\n",
      "App Id 5200 Does not exist\n",
      "App Id 5220 Does not exist\n",
      "App Id 5360 Does not exist\n",
      "App Id 5470 Does not exist\n",
      "App Id 5500 Does not exist\n",
      "App Id 5550 Does not exist\n",
      "App Id 5660 Does not exist\n",
      "App Id 5940 Does not exist\n",
      "                     game_title            developer      publisher  \\\n",
      "10               Counter-Strike                Valve          Valve   \n",
      "20        Team Fortress Classic                Valve          Valve   \n",
      "30                Day of Defeat                Valve          Valve   \n",
      "40           Deathmatch Classic                Valve          Valve   \n",
      "50    Half-Life: Opposing Force     Gearbox Software          Valve   \n",
      "...                         ...                  ...            ...   \n",
      "9940               Blade Kitten        Krome Studios  Krome Studios   \n",
      "9950               Blade Kitten        Krome Studios  Krome Studios   \n",
      "9960             Haunted House™       ImagineEngline          Atari   \n",
      "9970               Star Raiders  Incinerator Studios          Atari   \n",
      "9980            The UnderGarden       Artech Studios       Retroism   \n",
      "\n",
      "             release_date positive_reviews all_reviews currency price  \\\n",
      "10    2000-11-01 00:00:00            97031      100173      USD  9.99   \n",
      "20    1999-04-01 00:00:00             3149        3764      USD  4.99   \n",
      "30    2003-05-01 00:00:00             2440        2784      USD  4.99   \n",
      "40    2001-06-01 00:00:00             1024        1279      USD  4.99   \n",
      "50    1999-11-01 00:00:00             7804        8185      USD  4.99   \n",
      "...                   ...              ...         ...      ...   ...   \n",
      "9940  2010-09-22 00:00:00              676         813      USD  2.99   \n",
      "9950  2010-09-22 00:00:00              676         813      USD  2.99   \n",
      "9960  2010-09-28 00:00:00                9          20      USD  5.99   \n",
      "9970  2011-05-11 00:00:00                5          24      USD  9.99   \n",
      "9980  2010-11-10 00:00:00               36          52      USD  6.99   \n",
      "\n",
      "     original_price                                             genres  \n",
      "10             9.99  [Action, FPS, Multiplayer, Shooter, Classic, T...  \n",
      "20             4.99  [Action, FPS, Multiplayer, Classic, HeroShoote...  \n",
      "30             4.99  [FPS, WorldWarII, Multiplayer, Shooter, Action...  \n",
      "40             4.99  [Action, FPS, Classic, Multiplayer, Shooter, F...  \n",
      "50             4.99  [FPS, Action, Classic, Sci-fi, Singleplayer, S...  \n",
      "...             ...                                                ...  \n",
      "9940           2.99  [Anime, FemaleProtagonist, Action, Platformer,...  \n",
      "9950           2.99  [Anime, FemaleProtagonist, Action, Platformer,...  \n",
      "9960           5.99                                        [Adventure]  \n",
      "9970           9.99                                    [Action, Space]  \n",
      "9980           6.99            [Casual, Puzzle, Relaxing, Exploration]  \n",
      "\n",
      "[366 rows x 10 columns]\n"
     ]
    }
   ],
   "source": [
    "app_ids_df = pd.read_csv(\"steam_app_ids.csv\", names=[\"app_id\"])\n",
    "app_ids_df = app_ids_df.astype(\"int\")\n",
    "game_data_df = pd.DataFrame()\n",
    "\n",
    "for i in range(0, len(app_ids_df.index)):\n",
    "    game_soup = make_steam_soup(app_ids_df.at[i, \"app_id\"])\n",
    "    if game_soup.title.string != \"Welcome to Steam\":\n",
    "        game_data = scrape_html_for_data(game_soup)\n",
    "        game_data_df = game_dict_to_df(game_data, game_data_df, app_ids_df.at[i, \"app_id\"])\n",
    "    else:\n",
    "        print(\"App Id \" + str(app_ids_df.at[i, \"app_id\"]) + \" Does not exist\")\n",
    "    \n",
    "print(game_data_df)"
   ]
  },
  {
   "cell_type": "code",
   "execution_count": 114,
   "metadata": {},
   "outputs": [],
   "source": [
    "game_data_df.to_csv(\"game_data_test.csv\")"
   ]
  },
  {
   "cell_type": "code",
   "execution_count": 118,
   "metadata": {},
   "outputs": [
    {
     "data": {
      "text/html": [
       "<div>\n",
       "<style scoped>\n",
       "    .dataframe tbody tr th:only-of-type {\n",
       "        vertical-align: middle;\n",
       "    }\n",
       "\n",
       "    .dataframe tbody tr th {\n",
       "        vertical-align: top;\n",
       "    }\n",
       "\n",
       "    .dataframe thead th {\n",
       "        text-align: right;\n",
       "    }\n",
       "</style>\n",
       "<table border=\"1\" class=\"dataframe\">\n",
       "  <thead>\n",
       "    <tr style=\"text-align: right;\">\n",
       "      <th></th>\n",
       "      <th>game_title</th>\n",
       "      <th>developer</th>\n",
       "      <th>publisher</th>\n",
       "      <th>release_date</th>\n",
       "      <th>positive_reviews</th>\n",
       "      <th>all_reviews</th>\n",
       "      <th>currency</th>\n",
       "      <th>price</th>\n",
       "      <th>original_price</th>\n",
       "      <th>genres</th>\n",
       "    </tr>\n",
       "  </thead>\n",
       "  <tbody>\n",
       "    <tr>\n",
       "      <th>10</th>\n",
       "      <td>Counter-Strike</td>\n",
       "      <td>Valve</td>\n",
       "      <td>Valve</td>\n",
       "      <td>2000-11-01 00:00:00</td>\n",
       "      <td>97031</td>\n",
       "      <td>100173</td>\n",
       "      <td>USD</td>\n",
       "      <td>9.99</td>\n",
       "      <td>9.99</td>\n",
       "      <td>[Action, FPS, Multiplayer, Shooter, Classic, T...</td>\n",
       "    </tr>\n",
       "    <tr>\n",
       "      <th>20</th>\n",
       "      <td>Team Fortress Classic</td>\n",
       "      <td>Valve</td>\n",
       "      <td>Valve</td>\n",
       "      <td>1999-04-01 00:00:00</td>\n",
       "      <td>3149</td>\n",
       "      <td>3764</td>\n",
       "      <td>USD</td>\n",
       "      <td>4.99</td>\n",
       "      <td>4.99</td>\n",
       "      <td>[Action, FPS, Multiplayer, Classic, HeroShoote...</td>\n",
       "    </tr>\n",
       "    <tr>\n",
       "      <th>30</th>\n",
       "      <td>Day of Defeat</td>\n",
       "      <td>Valve</td>\n",
       "      <td>Valve</td>\n",
       "      <td>2003-05-01 00:00:00</td>\n",
       "      <td>2440</td>\n",
       "      <td>2784</td>\n",
       "      <td>USD</td>\n",
       "      <td>4.99</td>\n",
       "      <td>4.99</td>\n",
       "      <td>[FPS, WorldWarII, Multiplayer, Shooter, Action...</td>\n",
       "    </tr>\n",
       "    <tr>\n",
       "      <th>40</th>\n",
       "      <td>Deathmatch Classic</td>\n",
       "      <td>Valve</td>\n",
       "      <td>Valve</td>\n",
       "      <td>2001-06-01 00:00:00</td>\n",
       "      <td>1024</td>\n",
       "      <td>1279</td>\n",
       "      <td>USD</td>\n",
       "      <td>4.99</td>\n",
       "      <td>4.99</td>\n",
       "      <td>[Action, FPS, Classic, Multiplayer, Shooter, F...</td>\n",
       "    </tr>\n",
       "    <tr>\n",
       "      <th>50</th>\n",
       "      <td>Half-Life: Opposing Force</td>\n",
       "      <td>Gearbox Software</td>\n",
       "      <td>Valve</td>\n",
       "      <td>1999-11-01 00:00:00</td>\n",
       "      <td>7804</td>\n",
       "      <td>8185</td>\n",
       "      <td>USD</td>\n",
       "      <td>4.99</td>\n",
       "      <td>4.99</td>\n",
       "      <td>[FPS, Action, Classic, Sci-fi, Singleplayer, S...</td>\n",
       "    </tr>\n",
       "  </tbody>\n",
       "</table>\n",
       "</div>"
      ],
      "text/plain": [
       "                   game_title         developer publisher  \\\n",
       "10             Counter-Strike             Valve     Valve   \n",
       "20      Team Fortress Classic             Valve     Valve   \n",
       "30              Day of Defeat             Valve     Valve   \n",
       "40         Deathmatch Classic             Valve     Valve   \n",
       "50  Half-Life: Opposing Force  Gearbox Software     Valve   \n",
       "\n",
       "           release_date positive_reviews all_reviews currency price  \\\n",
       "10  2000-11-01 00:00:00            97031      100173      USD  9.99   \n",
       "20  1999-04-01 00:00:00             3149        3764      USD  4.99   \n",
       "30  2003-05-01 00:00:00             2440        2784      USD  4.99   \n",
       "40  2001-06-01 00:00:00             1024        1279      USD  4.99   \n",
       "50  1999-11-01 00:00:00             7804        8185      USD  4.99   \n",
       "\n",
       "   original_price                                             genres  \n",
       "10           9.99  [Action, FPS, Multiplayer, Shooter, Classic, T...  \n",
       "20           4.99  [Action, FPS, Multiplayer, Classic, HeroShoote...  \n",
       "30           4.99  [FPS, WorldWarII, Multiplayer, Shooter, Action...  \n",
       "40           4.99  [Action, FPS, Classic, Multiplayer, Shooter, F...  \n",
       "50           4.99  [FPS, Action, Classic, Sci-fi, Singleplayer, S...  "
      ]
     },
     "execution_count": 118,
     "metadata": {},
     "output_type": "execute_result"
    }
   ],
   "source": [
    "game_data_df.head()"
   ]
  },
  {
   "cell_type": "code",
   "execution_count": 6,
   "metadata": {},
   "outputs": [
    {
     "name": "stdout",
     "output_type": "stream",
     "text": [
      "                     game_title            developer      publisher  \\\n",
      "10               Counter-Strike                Valve          Valve   \n",
      "20        Team Fortress Classic                Valve          Valve   \n",
      "30                Day of Defeat                Valve          Valve   \n",
      "40           Deathmatch Classic                Valve          Valve   \n",
      "50    Half-Life: Opposing Force     Gearbox Software          Valve   \n",
      "...                         ...                  ...            ...   \n",
      "9940               Blade Kitten        Krome Studios  Krome Studios   \n",
      "9950               Blade Kitten        Krome Studios  Krome Studios   \n",
      "9960             Haunted House™       ImagineEngline          Atari   \n",
      "9970               Star Raiders  Incinerator Studios          Atari   \n",
      "9980            The UnderGarden       Artech Studios       Retroism   \n",
      "\n",
      "             release_date  positive_reviews  all_reviews currency  price  \\\n",
      "10    2000-11-01 00:00:00           97031.0     100173.0      USD   9.99   \n",
      "20    1999-04-01 00:00:00            3149.0       3764.0      USD   4.99   \n",
      "30    2003-05-01 00:00:00            2440.0       2784.0      USD   4.99   \n",
      "40    2001-06-01 00:00:00            1024.0       1279.0      USD   4.99   \n",
      "50    1999-11-01 00:00:00            7804.0       8185.0      USD   4.99   \n",
      "...                   ...               ...          ...      ...    ...   \n",
      "9940  2010-09-22 00:00:00             676.0        813.0      USD   2.99   \n",
      "9950  2010-09-22 00:00:00             676.0        813.0      USD   2.99   \n",
      "9960  2010-09-28 00:00:00               9.0         20.0      USD   5.99   \n",
      "9970  2011-05-11 00:00:00               5.0         24.0      USD   9.99   \n",
      "9980  2010-11-10 00:00:00              36.0         52.0      USD   6.99   \n",
      "\n",
      "      original_price                                             genres  \n",
      "10              9.99  ['Action', 'FPS', 'Multiplayer', 'Shooter', 'C...  \n",
      "20              4.99  ['Action', 'FPS', 'Multiplayer', 'Classic', 'H...  \n",
      "30              4.99  ['FPS', 'WorldWarII', 'Multiplayer', 'Shooter'...  \n",
      "40              4.99  ['Action', 'FPS', 'Classic', 'Multiplayer', 'S...  \n",
      "50              4.99  ['FPS', 'Action', 'Classic', 'Sci-fi', 'Single...  \n",
      "...              ...                                                ...  \n",
      "9940            2.99  ['Anime', 'FemaleProtagonist', 'Action', 'Plat...  \n",
      "9950            2.99  ['Anime', 'FemaleProtagonist', 'Action', 'Plat...  \n",
      "9960            5.99                                      ['Adventure']  \n",
      "9970            9.99                                ['Action', 'Space']  \n",
      "9980            6.99    ['Casual', 'Puzzle', 'Relaxing', 'Exploration']  \n",
      "\n",
      "[366 rows x 10 columns]\n"
     ]
    }
   ],
   "source": [
    "game_data = pd.read_csv(\"game_data_test.csv\", index_col=0)\n",
    "print(game_data)"
   ]
  },
  {
   "cell_type": "code",
   "execution_count": 40,
   "metadata": {},
   "outputs": [
    {
     "name": "stdout",
     "output_type": "stream",
     "text": [
      "Action FPS Multiplayer Shooter Classic Team-Based First-Person Competitive Tactical \"1990s\" eSports PvP OldSchool Military Strategy Survival ScoreAttack 1980s Assassin Violent\n",
      "Action\n",
      "['Action', 'FPS', 'Multiplayer', 'Shooter', 'Classic', 'Team-Based', 'First-Person', 'Competitive', 'Tactical', '\"1990s\"', 'eSports', 'PvP', 'OldSchool', 'Military', 'Strategy', 'Survival', 'ScoreAttack', '1980s', 'Assassin', 'Violent']\n"
     ]
    }
   ],
   "source": [
    "all_genres = []\n",
    "list_test = re.sub(r\"[,]\", \"\", game_data[\"genres\"][10])\n",
    "list_test = re.sub(r\"[']\", \"\", list_test)\n",
    "list_test = re.sub(r\"[\\[]\", \"\", list_test)\n",
    "list_test = re.sub(r\"[\\]]\", \"\", list_test)\n",
    "game_genres = list_test.split()\n",
    "print(list_test)\n",
    "print(game_genres[0])\n",
    "\n",
    "for genre in game_genres:\n",
    "    if genre not in all_genres:\n",
    "        all_genres.append(genre)\n",
    "\n",
    "print(all_genres)"
   ]
  },
  {
   "cell_type": "code",
   "execution_count": 41,
   "metadata": {},
   "outputs": [
    {
     "name": "stdout",
     "output_type": "stream",
     "text": [
      "Action FPS Multiplayer Classic HeroShooter Shooter Team-Based Class-Based First-Person \"1990s\" OldSchool Co-op Competitive Fast-Paced Retro OnlineCo-Op Violent Mod Remake Funny\n",
      "Action\n",
      "['Action', 'FPS', 'Multiplayer', 'Shooter', 'Classic', 'Team-Based', 'First-Person', 'Competitive', 'Tactical', '\"1990s\"', 'eSports', 'PvP', 'OldSchool', 'Military', 'Strategy', 'Survival', 'ScoreAttack', '1980s', 'Assassin', 'Violent', 'HeroShooter', 'Class-Based', 'Co-op', 'Fast-Paced', 'Retro', 'OnlineCo-Op', 'Mod', 'Remake', 'Funny']\n"
     ]
    }
   ],
   "source": [
    "list_test = re.sub(r\"[,]\", \"\", game_data[\"genres\"][20])\n",
    "list_test = re.sub(r\"[']\", \"\", list_test)\n",
    "list_test = re.sub(r\"[\\[]\", \"\", list_test)\n",
    "list_test = re.sub(r\"[\\]]\", \"\", list_test)\n",
    "game_genres = list_test.split()\n",
    "print(list_test)\n",
    "print(game_genres[0])\n",
    "\n",
    "for genre in game_genres:\n",
    "    if genre not in all_genres:\n",
    "        all_genres.append(genre)\n",
    "\n",
    "print(all_genres)"
   ]
  },
  {
   "cell_type": "code",
   "execution_count": 44,
   "metadata": {},
   "outputs": [
    {
     "name": "stdout",
     "output_type": "stream",
     "text": [
      "['Action', 'FPS', 'Multiplayer', 'Shooter', 'Classic', 'Team-Based', 'First-Person', 'Competitive', 'Tactical', '\"1990s\"', 'eSports', 'PvP', 'OldSchool', 'Military', 'Strategy', 'Survival', 'ScoreAttack', '1980s', 'Assassin', 'Violent', 'HeroShooter', 'Class-Based', 'Co-op', 'Fast-Paced', 'Retro', 'OnlineCo-Op', 'Mod', 'Remake', 'Funny', 'WorldWarII', 'War', 'Historical', 'Singleplayer', 'Difficult', 'WorldWarI', 'ArenaShooter', 'Sci-fi', 'Gore', 'Aliens', 'Adventure', 'Atmospheric', 'StoryRich', 'SilentProtagonist', 'GreatSoundtrack', 'Puzzle', 'Moddable', 'Cyberpunk', 'Space', 'Memes', 'Conspiracy', 'PsychologicalHorror', 'Platformer', '3D', 'CultClassic', 'Anime', 'Sports', 'Linear', 'OpenWorld', 'Simulation', 'Dark', 'Zombies', 'Short', 'Dystopian', 'Physics', 'Horror', 'Sandbox', 'Realistic', 'MassivelyMultiplayer', 'Comedy', 'Futuristic', 'Benchmark', 'FreetoPlay', 'Post-apocalyptic', 'Episodic', 'Cinematic', 'PuzzlePlatformer', '3DPlatformer', 'FemaleProtagonist', 'Science', 'DarkHumor', 'Cartoony', 'Trading', 'Robots', 'Cartoon', 'Crafting', 'ReplayValue', 'SurvivalHorror', 'LocalCo-Op', 'MOBA', 'RTS', 'TowerDefense', 'Fantasy', 'RPG', 'CharacterCustomization', 'ActionRPG', 'Action-Adventure', 'LevelEditor', 'Top-Down', 'Top-DownShooter', 'ThirdPerson', 'PvE', 'Third-PersonShooter', 'Tanks', 'Indie', 'Hacking', 'Real-TimewithPause', '2D', 'Experimental', 'Addictive', 'Roguelike', 'PermaDeath', 'Text-Based', 'Wargame', 'ColdWar', 'Diplomacy', 'NavalCombat', 'Naval', 'Submarine', '4X', 'Turn-BasedStrategy', 'Turn-Based', 'Turn-BasedTactics', 'Turn-BasedCombat', 'Isometric', 'TacticalRPG', 'DarkFantasy', 'Gothic', 'Underground', 'ImmersiveSim', 'Exploration', 'DungeonCrawler', 'Magic', 'Stealth', 'InventoryManagement', 'Animation&Modeling', 'VideoProduction', 'Software', 'Movie', 'BaseBuilding', 'Real-Time', 'PixelGraphics', 'ResourceManagement', 'Medieval', 'HackandSlash', 'Swordplay', 'MultipleEndings', '2.5D', 'Demons', 'Lovecraftian', 'Mystery', 'Stylized', 'Blood', 'TwinStickShooter', '\"ShootEmUp\"', 'Combat', 'Casual', 'Flight', '2DPlatformer', 'Arcade', 'Vampire', 'Supernatural', 'Immersive', 'Western', 'BulletTime', 'America', 'Controller', 'Management', 'Building', 'Economy', 'FamilyFriendly', 'CityBuilder', 'Destruction', 'Political', 'Politics', 'SpaceSim', 'Capitalism', 'Underwater', 'CombatRacing', 'Racing', 'AutomobileSim', 'VehicularCombat', 'Music', 'Driving', 'LocalMultiplayer', 'Offroad', 'HexGrid', 'Point&Click', 'Match3', 'Cute', 'Clicker', 'Colorful', 'Relaxing', 'Dinosaurs', 'BulletHell', 'Typing', 'Education', 'HiddenObject', 'Touch-Friendly', 'Sniper', 'ComicBook', 'VillainProtagonist', 'Parody', 'GodGame', 'Mature', 'Psychological', 'Surreal', 'Collectathon', '3DVision', 'GrandStrategy', 'Pirates', 'Sailing', 'ChooseYourOwnAdventure', 'Fighting', 'Rome', 'CardGame', 'Gambling', 'Loot', 'BasedOnANovel', 'Epic', 'Warhammer40K', 'GamesWorkshop', 'RealTimeTactics', 'Crime', 'Detective', '\"Beatemup\"', 'Thriller', 'SideScroller', 'Beautiful', 'Motorbike', 'Bikes', 'Nudity', 'Mechs', 'Spectaclefighter', 'CharacterActionGame', 'Transhumanism', 'Illuminati', 'Steampunk', 'Parkour', 'Modern', 'MartialArts', 'Party-BasedRPG', 'Romance', 'ChoicesMatter', 'Mythology', 'CRPG', 'TimeAttack', 'Investigation', 'Trains', 'AlternateHistory', 'Unforgiving', 'Soccer', 'Heist', 'SplitScreen', 'Psychedelic', 'MMORPG', 'Spaceships', 'Philosophical', 'TimeTravel', 'Superhero', 'LooterShooter', 'Mars', 'Nostalgia', 'Co-opCampaign']\n"
     ]
    }
   ],
   "source": [
    "for index in game_data.index:\n",
    "    list_test = re.sub(r\"[,]\", \"\", game_data[\"genres\"][index])\n",
    "    list_test = re.sub(r\"[']\", \"\", list_test)\n",
    "    list_test = re.sub(r\"[\\[]\", \"\", list_test)\n",
    "    list_test = re.sub(r\"[\\]]\", \"\", list_test)\n",
    "    game_genres = list_test.split()\n",
    "\n",
    "    for genre in game_genres:\n",
    "        if genre not in all_genres:\n",
    "            all_genres.append(genre)\n",
    "\n",
    "print(all_genres)"
   ]
  },
  {
   "cell_type": "code",
   "execution_count": 52,
   "metadata": {},
   "outputs": [
    {
     "name": "stdout",
     "output_type": "stream",
     "text": [
      "<class 'str'>\n",
      "['Action', 'FPS', 'Multiplayer', 'Shooter', 'Classic', 'Team-Based', 'First-Person', 'Competitive', 'Tactical', \"1990's\", 'eSports', 'PvP', 'OldSchool', 'Military', 'Strategy', 'Survival', 'ScoreAttack', '1980s', 'Assassin', 'Violent']\n"
     ]
    }
   ],
   "source": [
    "print(type(game_data[\"genres\"][10]))\n",
    "print(game_data[\"genres\"][10])"
   ]
  },
  {
   "cell_type": "code",
   "execution_count": 60,
   "metadata": {},
   "outputs": [
    {
     "name": "stdout",
     "output_type": "stream",
     "text": [
      "10      1\n",
      "20      1\n",
      "30      1\n",
      "40      1\n",
      "50      1\n",
      "       ..\n",
      "9940    1\n",
      "9950    1\n",
      "9960    0\n",
      "9970    1\n",
      "9980    0\n",
      "Name: Action, Length: 366, dtype: int64\n"
     ]
    }
   ],
   "source": [
    "for genre in all_genres:\n",
    "    \n",
    "    genre_exists = []\n",
    "    \n",
    "    for index in game_data.index:\n",
    "\n",
    "        if genre in game_data[\"genres\"][index]:\n",
    "            genre_exists.append(1)\n",
    "        else:\n",
    "            genre_exists.append(0)\n",
    "\n",
    "    game_data[genre] = genre_exists\n",
    "\n",
    "print(game_data[\"Action\"])"
   ]
  },
  {
   "cell_type": "code",
   "execution_count": 61,
   "metadata": {},
   "outputs": [
    {
     "name": "stdout",
     "output_type": "stream",
     "text": [
      "Index(['game_title', 'developer', 'publisher', 'release_date',\n",
      "       'positive_reviews', 'all_reviews', 'currency', 'price',\n",
      "       'original_price', 'genres',\n",
      "       ...\n",
      "       'Psychedelic', 'MMORPG', 'Spaceships', 'Philosophical', 'TimeTravel',\n",
      "       'Superhero', 'LooterShooter', 'Mars', 'Nostalgia', 'Co-opCampaign'],\n",
      "      dtype='object', length=273)\n"
     ]
    }
   ],
   "source": [
    "print(game_data.columns)"
   ]
  },
  {
   "cell_type": "code",
   "execution_count": 62,
   "metadata": {},
   "outputs": [],
   "source": [
    "game_data.to_csv(\"game_data_test_with_genres.csv\")"
   ]
  },
  {
   "cell_type": "code",
   "execution_count": null,
   "metadata": {},
   "outputs": [],
   "source": []
  }
 ],
 "metadata": {
  "kernelspec": {
   "display_name": "Python 3",
   "language": "python",
   "name": "python3"
  },
  "language_info": {
   "codemirror_mode": {
    "name": "ipython",
    "version": 3
   },
   "file_extension": ".py",
   "mimetype": "text/x-python",
   "name": "python",
   "nbconvert_exporter": "python",
   "pygments_lexer": "ipython3",
   "version": "3.8.3"
  }
 },
 "nbformat": 4,
 "nbformat_minor": 4
}
